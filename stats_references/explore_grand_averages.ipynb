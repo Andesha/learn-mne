{
 "cells": [
  {
   "cell_type": "markdown",
   "id": "ac2434b0-41b3-412b-9e7d-b5bee144ab2f",
   "metadata": {},
   "source": [
    "# Exploring Grand Averages\n",
    "\n",
    "This notebook provides a means to investigate the grand averages for the YAC study.\n",
    "\n",
    "Reseachers/students are not intended to make changes here."
   ]
  },
  {
   "cell_type": "code",
   "execution_count": null,
   "id": "bf61c03d-a593-4359-bd5d-838a66286a46",
   "metadata": {
    "tags": []
   },
   "outputs": [],
   "source": [
    "import glob\n",
    "import mne\n",
    "import numpy as np\n",
    "import re\n",
    "import pandas as pd\n",
    "from IPython.display import display\n",
    "import matplotlib.pyplot as plt"
   ]
  },
  {
   "cell_type": "code",
   "execution_count": null,
   "id": "dda5459a-4c9f-4a5d-becd-828507a82dc0",
   "metadata": {
    "tags": []
   },
   "outputs": [],
   "source": [
    "# Dictionary keyed by condition; values are a list of averaged (mne.Evoked) subject waveforms.\n",
    "conditions = ['VO21', 'VO22', 'VO23', 'VO24', 'VO25']\n",
    "frequencies = np.arange(7, 30, 1)\n",
    "averaging_dict = {k:[] for k in conditions}"
   ]
  },
  {
   "cell_type": "code",
   "execution_count": null,
   "id": "75b04ccb-112a-4c44-a5e4-b34e7bcd6091",
   "metadata": {
    "tags": []
   },
   "outputs": [],
   "source": [
    "power_channels = ['E6', 'E75', 'E55']\n",
    "all_subject_paths = sorted(glob.glob('derivatives/segmented/*.fif'))\n",
    "for sub in all_subject_paths:\n",
    "    new_epoch = mne.read_epochs(sub)\n",
    "    for condition in conditions:\n",
    "        power, itc = mne.time_frequency.tfr_morlet(new_epoch[condition].pick(power_channels[0]), n_cycles=2, return_itc=True, freqs=frequencies, decim=2)\n",
    "        trimmed_epoch = new_epoch.crop(tmin=-0.1, tmax=1.0).apply_baseline((-0.1, 0))\n",
    "        averaging_dict[condition].append((re.findall(r'_(\\d+)_', sub)[0], new_epoch[condition].average(), power, itc))"
   ]
  },
  {
   "cell_type": "code",
   "execution_count": null,
   "id": "c75bdd24-0691-49fb-a8af-f3f326880702",
   "metadata": {
    "tags": []
   },
   "outputs": [],
   "source": [
    "def condition_summary(condition_label):\n",
    "    print('Working on: ', condition_label)\n",
    "    grand_average = mne.grand_average([item[1] for item in averaging_dict[condition_label]])\n",
    "    display(grand_average)\n",
    "    grand_average.plot()\n",
    "    times = np.arange(-0.1, 1.0, .1)\n",
    "    fig = grand_average.plot_topomap(times=times, colorbar=True)\n",
    "    fig.suptitle(condition_label)"
   ]
  },
  {
   "cell_type": "code",
   "execution_count": null,
   "id": "21c9c73f-22f7-4b39-b34c-3e4d02e87697",
   "metadata": {
    "tags": []
   },
   "outputs": [],
   "source": [
    "for condition in conditions:\n",
    "    condition_summary(condition)"
   ]
  },
  {
   "cell_type": "code",
   "execution_count": null,
   "id": "543379b4-06c0-4a71-a019-1b72f80cba9a",
   "metadata": {
    "tags": []
   },
   "outputs": [],
   "source": [
    "mne.viz.plot_compare_evokeds({k:[t[1] for t in v] for k, v in averaging_dict.items()}, picks=['E71'])"
   ]
  },
  {
   "cell_type": "code",
   "execution_count": null,
   "id": "23b955ef-fcad-49ae-9ef0-ffd82953ef92",
   "metadata": {
    "tags": []
   },
   "outputs": [],
   "source": [
    "mne.viz.plot_compare_evokeds({k:[t[1] for t in v] for k, v in averaging_dict.items()}, picks=['E6'])"
   ]
  },
  {
   "cell_type": "markdown",
   "id": "14954c97-5ec9-4f4b-bab6-d5e88164ab8e",
   "metadata": {},
   "source": [
    "## Between Groups\n",
    "\n",
    "Below groups are taken from emailed spreadsheet."
   ]
  },
  {
   "cell_type": "code",
   "execution_count": null,
   "id": "d7963e38-50cb-490f-90a1-8c726a1611e9",
   "metadata": {},
   "outputs": [],
   "source": []
  },
  {
   "cell_type": "markdown",
   "id": "d89f348b-3267-49da-82bd-0a010cd9a3db",
   "metadata": {},
   "source": [
    "When making a new comparison, copy the below structure,\n",
    "change values, and pass to the `evoked_compare_wrapper`\n",
    "function. The groups should stay the current format of\n",
    "a list of `(Condition label, list of string subject IDs)`."
   ]
  },
  {
   "cell_type": "code",
   "execution_count": null,
   "id": "3a21675c-82af-4b26-b576-2b8d078592a8",
   "metadata": {},
   "outputs": [],
   "source": []
  },
  {
   "cell_type": "code",
   "execution_count": null,
   "id": "52e60ee9-34f4-4689-b586-ce3b0ef7e422",
   "metadata": {},
   "outputs": [],
   "source": [
    "# Generates a evoked comparison of variable groups based\n",
    "# on defined comparison structure above.\n",
    "# Parameters:\n",
    "#     comparison_dict: See previous cells for definition.\n",
    "#     ci: If true, draw confidence intervals. Defaults true.\n",
    "def evoked_compare_wrapper(comparison_dict, ci=True):\n",
    "    evokeds = {}\n",
    "    for label, group_subjects in comparison_dict['groups']:\n",
    "        evokeds[label] = []\n",
    "        for cond in comparison_dict['condition']:\n",
    "            for subject, data, _, _ in averaging_dict[cond]:\n",
    "                if subject in group_subjects: \n",
    "                    evokeds[label].append(data)\n",
    "    if not ci:\n",
    "        for k,v in evokeds.items():\n",
    "            evokeds[k] = mne.grand_average(evokeds[k])\n",
    "    mne.viz.plot_compare_evokeds(evokeds, picks=comparison_dict['channels'],\n",
    "                                 title=comparison_dict['figure_title'], combine='mean')"
   ]
  },
  {
   "cell_type": "code",
   "execution_count": null,
   "id": "28551987-0dae-4ffc-b233-b21bc20c8a69",
   "metadata": {},
   "outputs": [],
   "source": [
    "sample_comparison = {\n",
    "    'groups': [\n",
    "               ('Top MASC Report', top_masc_report),\n",
    "               ('Bot MASC Report', bot_masc_report),\n",
    "              ],\n",
    "    'condition': ['VO24'],\n",
    "    'channels': ['E6'],\n",
    "    'figure_title': 'test',\n",
    "}\n",
    "evoked_compare_wrapper(sample_comparison, ci=True)"
   ]
  },
  {
   "cell_type": "code",
   "execution_count": null,
   "id": "c0903052-dca5-410a-9ba1-69b6a0b750f0",
   "metadata": {},
   "outputs": [],
   "source": [
    "%matplotlib inline\n",
    "# This is invoked - time freq of whole conditions ERP\n",
    "\n",
    "\n",
    "# confidence interval erps - f diff is the two confidence intervals, \n",
    "# also plot the difference of erps with ci envelope\n",
    "# measure of width of confidence interval\n",
    "# f_obs -> how many hops of the width of the confidence interval to gwet back to zero\n",
    "# f_obs_plot - > the mask is like the mne confi where the confidence interval of the difference does not include zero\n",
    "#      threshold 6 is how you control not including zero\n",
    "\n",
    "cond1 = mne.grand_average([item[3] for item in averaging_dict['VO21']])\n",
    "cond2 = mne.grand_average([item[3] for item in averaging_dict['VO22']])\n",
    "\n",
    "epochs_power_1 = np.array([item[3].data for item in averaging_dict['VO21']])[:, 0, :, :]\n",
    "epochs_power_2 = np.array([item[3].data for item in averaging_dict['VO22']])[:, 0, :, :]\n",
    "\n",
    "F_obs, clusters, cluster_p_values, H0 = mne.stats.permutation_cluster_test(\n",
    "    [epochs_power_1, epochs_power_2],\n",
    "    out_type=\"mask\",\n",
    "    n_permutations=100,\n",
    "    threshold=6.0,\n",
    "    tail=0,\n",
    ") # returns F difference, sampled, zscore\n",
    "\n",
    "times = 1e3 * averaging_dict['VO21'][0][2].times  # for changing the unit to ms\n",
    "\n",
    "evoked_power_contrast = epochs_power_1.mean(axis=0) - epochs_power_2.mean(axis=0)\n",
    "signs = np.sign(evoked_power_contrast)\n",
    "\n",
    "F_obs_plot = np.nan * np.ones_like(F_obs)\n",
    "for c, p_val in zip(clusters, cluster_p_values):\n",
    "    if p_val <= 0.05:\n",
    "        F_obs_plot[c] = F_obs[c] * signs[c]\n",
    "max_F = np.nanmax(abs(F_obs_plot))\n",
    "\n",
    "fig, (ax, ax2) = plt.subplots(2, 1, figsize=(6, 4))\n",
    "ax.imshow(\n",
    "    F_obs,\n",
    "    # extent=[times[0], times[-1], frequencies[0], frequencies[-1]],\n",
    "    aspect=\"auto\",\n",
    "    origin=\"lower\",\n",
    "    cmap=\"gray\",\n",
    ")\n",
    "\n",
    "ax.imshow(\n",
    "    F_obs_plot,\n",
    "    # extent=[times[0], times[-1], frequencies[0], frequencies[-1]],\n",
    "    aspect=\"auto\",\n",
    "    origin=\"lower\",\n",
    "    cmap=\"RdBu_r\",\n",
    "    vmin=-max_F,\n",
    "    vmax=max_F,\n",
    ")\n",
    "ax.set_xlabel(\"Time (ms)\")\n",
    "ax.set_ylabel(\"Frequency (Hz)\")\n",
    "ax.set_title(\"Induced power\")\n",
    "\n",
    "evoked_contrast = mne.combine_evoked(\n",
    "    [cond1, cond2], weights=[1, -1]\n",
    ")\n",
    "evoked_contrast.plot(axes=ax2)"
   ]
  }
 ],
 "metadata": {
  "kernelspec": {
   "display_name": "Python 3 (ipykernel)",
   "language": "python",
   "name": "python3"
  },
  "language_info": {
   "codemirror_mode": {
    "name": "ipython",
    "version": 3
   },
   "file_extension": ".py",
   "mimetype": "text/x-python",
   "name": "python",
   "nbconvert_exporter": "python",
   "pygments_lexer": "ipython3",
   "version": "3.10.12"
  }
 },
 "nbformat": 4,
 "nbformat_minor": 5
}
