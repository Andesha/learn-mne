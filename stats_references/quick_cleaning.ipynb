{
 "cells": [
  {
   "cell_type": "markdown",
   "id": "fbb0611d-9ede-4fd9-94f4-4b908d860d1a",
   "metadata": {
    "tags": []
   },
   "source": [
    "# Exploring a Single Subject\n",
    "\n",
    "The purpose of this notebook is take all subjects and segment them assuming they are clean.\n",
    "\n",
    "The researcher/student is not intended to make changes here."
   ]
  },
  {
   "cell_type": "code",
   "execution_count": null,
   "id": "141ff47f-646d-4c50-a735-3b9187f71457",
   "metadata": {
    "tags": []
   },
   "outputs": [],
   "source": [
    "import mne\n",
    "import pandas as pd\n",
    "import pylossless as ll\n",
    "import glob\n",
    "import json\n",
    "mne.viz.set_browser_backend('qt')\n",
    "\n",
    "# EEG Configuration\n",
    "filter_freqs = (1.0, 30.0) # Filter data from (low_freq, high_freq)\n",
    "channel_interest = ['all']\n",
    "epoch_tmin = -0.1 # Baseline to stimulus onset in seconds, negative implies before stimulus\n",
    "epoch_tmax = 1.0 # Duration after stimulus of epoch\n",
    "reject_criteria = {'eeg': 200e-6} # 200 microvolts peak to peak\n",
    "conditions = ['VO21', 'VO22', 'VO23', 'VO24', 'VO25']"
   ]
  },
  {
   "cell_type": "code",
   "execution_count": null,
   "id": "8cd8f0cc-089c-4195-a2a2-59404dec4a0a",
   "metadata": {
    "tags": []
   },
   "outputs": [],
   "source": [
    "def clean_and_epoch(subject_id):\n",
    "    project_path = '/media/tyler/PathstoneProject/PathstoneYAC'\n",
    "    raw_path = f'{project_path}/sub-YAC{subject_id}/eeg/sub-YAC{subject_id}_task-AttnCtrl_eeg.edf'\n",
    "    derivative_path = f'{project_path}/derivatives/pylossless/sub-YAC{subject_id}/eeg/sub-YAC{subject_id}_task-afd_eeg.edf'\n",
    "\n",
    "    ll_state = ll.LosslessPipeline()\n",
    "    ll_state = ll_state.load_ll_derivative(derivative_path)\n",
    "    ll_state.raw.info['bads'] = ll_state.flags['ch'].get_flagged()\n",
    "    ll_state.ica2.exclude = [index for index,comp in ll_state.flags['ic'].iterrows() if comp['ic_type'] in ['eog', 'ecg', 'muscle', 'line_noise', 'channel_noise']]\n",
    "\n",
    "    cleaned_state = ll_state.raw.copy()\n",
    "    cleaned_state.load_data()\n",
    "    ll_state.ica2.apply(cleaned_state)\n",
    "    cleaned_state = cleaned_state.interpolate_bads()\n",
    "    cleaned_state = cleaned_state.filter(l_freq=filter_freqs[0], h_freq=filter_freqs[1])\n",
    "\n",
    "    raw_data = mne.io.read_raw_edf(f'sub-YAC{subject_id}/eeg/sub-YAC{subject_id}_task-AttnCtrl_eeg.edf')\n",
    "    base_events, event_dict = mne.events_from_annotations(raw_data)\n",
    "\n",
    "    event_dict['VO24/combine'] = event_dict.pop('VO24')\n",
    "    event_dict['VO25/combine'] = event_dict.pop('VO25')\n",
    "    \n",
    "    cleaned_state = cleaned_state.set_eeg_reference(ref_channels=\"average\")\n",
    "\n",
    "    epochs = mne.Epochs(\n",
    "        cleaned_state,\n",
    "        base_events,\n",
    "        picks=channel_interest,\n",
    "        event_id=event_dict,\n",
    "        tmin=epoch_tmin,\n",
    "        tmax=epoch_tmax,\n",
    "        preload=True,\n",
    "        reject=reject_criteria,\n",
    "        event_repeated='merge',\n",
    "    )\n",
    "    # Trim down to only selected event types\n",
    "    epochs = epochs[conditions]\n",
    "    # Print the event counts\n",
    "    event_counts = {label:len(epochs[label]) for label in conditions}\n",
    "    event_counts['subject'] = subject_id\n",
    "    epochs.save(f'derivatives/segmented/yac_{subject_id}_pylqcr_eeg.fif', overwrite=True)\n",
    "    return event_counts"
   ]
  },
  {
   "cell_type": "code",
   "execution_count": null,
   "id": "51841d83-6e17-4857-bc1d-10a07b0bc434",
   "metadata": {
    "tags": []
   },
   "outputs": [],
   "source": [
    "subject_ids = [item[7:] for item in sorted(glob.glob('sub-*'))]\n",
    "\n",
    "subject_report = []\n",
    "for subject in subject_ids:\n",
    "    print('Working on subject: ', subject)\n",
    "    out_str = clean_and_epoch(subject)\n",
    "    subject_report.append(out_str)\n",
    "df = pd.DataFrame(subject_report)\n",
    "df = df.set_index('subject')\n",
    "df.to_csv('derivatives/segmented/event_report.csv')\n",
    "df"
   ]
  }
 ],
 "metadata": {
  "kernelspec": {
   "display_name": "Python 3 (ipykernel)",
   "language": "python",
   "name": "python3"
  },
  "language_info": {
   "codemirror_mode": {
    "name": "ipython",
    "version": 3
   },
   "file_extension": ".py",
   "mimetype": "text/x-python",
   "name": "python",
   "nbconvert_exporter": "python",
   "pygments_lexer": "ipython3",
   "version": "3.10.12"
  }
 },
 "nbformat": 4,
 "nbformat_minor": 5
}
