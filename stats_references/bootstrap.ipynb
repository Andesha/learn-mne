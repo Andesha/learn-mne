{
 "cells": [
  {
   "cell_type": "markdown",
   "id": "1ce29f23-5d16-4a98-bb42-60bf5587fe4b",
   "metadata": {},
   "source": [
    "# Explore Bootstrapping    "
   ]
  },
  {
   "cell_type": "code",
   "execution_count": null,
   "id": "b86b1cfd-a909-4cf6-8727-722700594273",
   "metadata": {},
   "outputs": [],
   "source": [
    "# per condition\n",
    "#     for surrogate count (1_000)\n",
    "#         pick 100 trials with replacement\n",
    "#         trimmed mean across those trials (20%)\n",
    "#         left with one surrogate ERP\n",
    "#     confidence interval at each timepoint, quantiles (0.25, 0.75)\n",
    "#     # collapse across subjects\n",
    "#     mean of all surrogates is the subject's ERP\n",
    "# difference waves can be here\n",
    "import mne\n",
    "import glob\n",
    "import numpy as np\n",
    "import scipy.stats"
   ]
  },
  {
   "cell_type": "code",
   "execution_count": null,
   "id": "ec0e0502-25bd-4b17-b6e2-e9a72d6e1482",
   "metadata": {
    "scrolled": true
   },
   "outputs": [],
   "source": [
    "channel_interest = ['E75']\n",
    "averaging_dict = {'VO21': [], 'VO23': []}\n",
    "all_subject_paths = sorted(glob.glob('derivatives/segmented/*100*.fif'))\n",
    "for sub in all_subject_paths:\n",
    "    new_epoch = mne.read_epochs(sub).pick(channel_interest)\n",
    "    for condition in averaging_dict.keys():\n",
    "        averaging_dict[condition].append(new_epoch[condition])"
   ]
  },
  {
   "cell_type": "code",
   "execution_count": null,
   "id": "c0e41d6a-e4f2-4698-a049-85ca949c5010",
   "metadata": {},
   "outputs": [],
   "source": [
    "trim = lambda x: scipy.stats.trim_mean(x, 0.1, axis=0)\n",
    "rng = np.random.default_rng(1)\n",
    "bootstrapped_dict = {}\n",
    "for condition in averaging_dict.keys():\n",
    "    subject_accum = []\n",
    "    for subject_epochs in averaging_dict[condition]:\n",
    "        trial_cap = len(subject_epochs[condition])\n",
    "        surrogate_accum = []\n",
    "        for surrogate_count in range(100):\n",
    "            surrogate = subject_epochs[rng.choice(trial_cap, trial_cap)].average(method=trim).data\n",
    "            surrogate_accum.append(surrogate)\n",
    "        surrogate_array = np.stack(surrogate_accum, axis=0)\n",
    "        subject_accum.append(surrogate_array)\n",
    "    subject_array = np.stack(subject_accum, axis=0)\n",
    "    condition_array = np.mean(subject_array, axis=0)\n",
    "    bootstrapped_dict[condition] = (np.percentile(condition_array, 25, axis=0),\n",
    "                                    np.mean(condition_array, axis=0),\n",
    "                                    np.percentile(condition_array, 75, axis=0))\n",
    "print('Done')"
   ]
  },
  {
   "cell_type": "code",
   "execution_count": null,
   "id": "0f0ce449-b01f-4bcf-808a-b04ad9a5106a",
   "metadata": {},
   "outputs": [],
   "source": [
    "import plotly.express as px\n",
    "import numpy as np\n",
    "import plotly.graph_objects as go\n",
    "\n",
    "times = averaging_dict['VO21'][0].times\n",
    "\n",
    "df_builder = {'VO21_q25': bootstrapped_dict['VO21'][0][0],\n",
    "              'VO21_mean': bootstrapped_dict['VO21'][1][0],\n",
    "              'VO21_q75': bootstrapped_dict['VO21'][2][0],\n",
    "              'VO23_q25': bootstrapped_dict['VO23'][0][0],\n",
    "              'VO23_mean': bootstrapped_dict['VO23'][1][0],\n",
    "              'VO23_q75': bootstrapped_dict['VO23'][2][0]}\n",
    "df = pd.DataFrame(df_builder, index=times)\n",
    "\n",
    "# Create the shaded region between y1 and y2\n",
    "fig = go.Figure()\n",
    "\n",
    "fig.add_trace(go.Scatter(x=df.index, y=df['VO21_q25'], mode='lines', line=dict(color='blue')))\n",
    "fig.add_trace(go.Scatter(x=df.index, y=df['VO21_q75'], mode='lines', fill='tonexty', line=dict(color='blue')))\n",
    "fig.add_trace(go.Scatter(x=df.index, y=df['VO21_mean'], mode='lines', line=dict(color='black')))\n",
    "\n",
    "fig.add_trace(go.Scatter(x=df.index, y=df['VO23_q25'], mode='lines', line=dict(color='red')))\n",
    "fig.add_trace(go.Scatter(x=df.index, y=df['VO23_q75'], mode='lines', fill='tonexty', line=dict(color='red')))\n",
    "fig.add_trace(go.Scatter(x=df.index, y=df['VO23_mean'], mode='lines', line=dict(color='black')))\n",
    "\n",
    "# Show the plot\n",
    "fig.show()"
   ]
  }
 ],
 "metadata": {
  "kernelspec": {
   "display_name": "Python 3 (ipykernel)",
   "language": "python",
   "name": "python3"
  },
  "language_info": {
   "codemirror_mode": {
    "name": "ipython",
    "version": 3
   },
   "file_extension": ".py",
   "mimetype": "text/x-python",
   "name": "python",
   "nbconvert_exporter": "python",
   "pygments_lexer": "ipython3",
   "version": "3.10.12"
  }
 },
 "nbformat": 4,
 "nbformat_minor": 5
}
