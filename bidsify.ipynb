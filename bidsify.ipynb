{
 "cells": [
  {
   "cell_type": "markdown",
   "id": "7bc4c758-2c67-4a4a-a118-4b0357516b5f",
   "metadata": {},
   "source": [
    "# Learn You a BIDSify for Great Good"
   ]
  },
  {
   "cell_type": "code",
   "execution_count": null,
   "id": "0781546f-d755-452f-a543-4ffee7e5dc88",
   "metadata": {
    "tags": []
   },
   "outputs": [],
   "source": [
    "import mne\n",
    "import mne.io"
   ]
  },
  {
   "cell_type": "code",
   "execution_count": null,
   "id": "3ea27ad4-18d7-42dd-956b-c38c1234df57",
   "metadata": {
    "tags": []
   },
   "outputs": [],
   "source": [
    "all_recordings = ['IC_trn_P01_F_1.bdf','IC_trn_P01_F_2.bdf','IC_trn_P01_F_3.bdf','IC_trn_P01_F_4.bdf',\n",
    "                  'IC_trn_P01_O_1.bdf','IC_trn_P01_O_2.bdf','IC_trn_P01_O_3.bdf','IC_trn_P01_O_4.bdf']\n"
   ]
  },
  {
   "cell_type": "code",
   "execution_count": null,
   "id": "cf1ad4f7-7f07-4530-93c8-1db22513c3ea",
   "metadata": {
    "tags": []
   },
   "outputs": [],
   "source": [
    "raw = mne.io.read_raw_bdf(f'sourcedata/{all_recordings[0]}').resample(sfreq=512, n_jobs=4)\n",
    "print('Finished first file...')\n",
    "\n",
    "for file in all_recordings[1:]:\n",
    "    print('Loading file: ', file)\n",
    "    new_raw = mne.io.read_raw_bdf(f'sourcedata/{file}').resample(sfreq=512, n_jobs=4)\n",
    "    mne.io.concatenate_raws([raw, new_raw])"
   ]
  },
  {
   "cell_type": "code",
   "execution_count": null,
   "id": "d8ed17a7-6818-4b0d-aec2-99d717524572",
   "metadata": {
    "tags": []
   },
   "outputs": [],
   "source": [
    "subject_id = '001'\n",
    "task = 'face13'\n",
    "bids_root = './face13'"
   ]
  },
  {
   "cell_type": "code",
   "execution_count": null,
   "id": "99b7266e-1047-4fd2-a39d-1a78382201a6",
   "metadata": {
    "tags": []
   },
   "outputs": [],
   "source": [
    "bids_path = mne_bids.BIDSPath(subject=subject_id, task=task, root=bids_root)\n",
    "mne_bids.write_raw_bids(raw, bids_path, overwrite=True, allow_preload=True, format='EDF')"
   ]
  }
 ],
 "metadata": {
  "kernelspec": {
   "display_name": "Python 3 (ipykernel)",
   "language": "python",
   "name": "python3"
  },
  "language_info": {
   "codemirror_mode": {
    "name": "ipython",
    "version": 3
   },
   "file_extension": ".py",
   "mimetype": "text/x-python",
   "name": "python",
   "nbconvert_exporter": "python",
   "pygments_lexer": "ipython3",
   "version": "3.10.6"
  }
 },
 "nbformat": 4,
 "nbformat_minor": 5
}
