{
 "cells": [
  {
   "cell_type": "markdown",
   "id": "7bc4c758-2c67-4a4a-a118-4b0357516b5f",
   "metadata": {},
   "source": [
    "# Learn You a BIDSify for Great Good"
   ]
  },
  {
   "cell_type": "code",
   "execution_count": 1,
   "id": "0781546f-d755-452f-a543-4ffee7e5dc88",
   "metadata": {
    "tags": []
   },
   "outputs": [],
   "source": [
    "import mne\n",
    "import mne.io\n",
    "import mne_bids"
   ]
  },
  {
   "cell_type": "code",
   "execution_count": 2,
   "id": "3ea27ad4-18d7-42dd-956b-c38c1234df57",
   "metadata": {
    "tags": []
   },
   "outputs": [],
   "source": [
    "all_recordings = ['IC_trn_P01_F_1.bdf','IC_trn_P01_F_2.bdf','IC_trn_P01_F_3.bdf','IC_trn_P01_F_4.bdf',\n",
    "                  'IC_trn_P01_O_1.bdf','IC_trn_P01_O_2.bdf','IC_trn_P01_O_3.bdf','IC_trn_P01_O_4.bdf']\n"
   ]
  },
  {
   "cell_type": "code",
   "execution_count": 3,
   "id": "cf1ad4f7-7f07-4530-93c8-1db22513c3ea",
   "metadata": {
    "tags": []
   },
   "outputs": [
    {
     "name": "stdout",
     "output_type": "stream",
     "text": [
      "Extracting EDF parameters from /home/tyler/Documents/learn-mne/sourcedata/IC_trn_P01_F_1.bdf...\n",
      "BDF file detected\n",
      "Setting channel info structure...\n",
      "Creating raw.info structure...\n",
      "Extracting EDF parameters from /home/tyler/Documents/learn-mne/sourcedata/IC_trn_P01_F_2.bdf...\n",
      "BDF file detected\n",
      "Setting channel info structure...\n",
      "Creating raw.info structure...\n",
      "Extracting EDF parameters from /home/tyler/Documents/learn-mne/sourcedata/IC_trn_P01_F_3.bdf...\n",
      "BDF file detected\n",
      "Setting channel info structure...\n",
      "Creating raw.info structure...\n",
      "Extracting EDF parameters from /home/tyler/Documents/learn-mne/sourcedata/IC_trn_P01_F_4.bdf...\n",
      "BDF file detected\n",
      "Setting channel info structure...\n",
      "Creating raw.info structure...\n",
      "Extracting EDF parameters from /home/tyler/Documents/learn-mne/sourcedata/IC_trn_P01_O_1.bdf...\n",
      "BDF file detected\n",
      "Setting channel info structure...\n",
      "Creating raw.info structure...\n",
      "Extracting EDF parameters from /home/tyler/Documents/learn-mne/sourcedata/IC_trn_P01_O_2.bdf...\n",
      "BDF file detected\n",
      "Setting channel info structure...\n",
      "Creating raw.info structure...\n",
      "Extracting EDF parameters from /home/tyler/Documents/learn-mne/sourcedata/IC_trn_P01_O_3.bdf...\n",
      "BDF file detected\n",
      "Setting channel info structure...\n",
      "Creating raw.info structure...\n",
      "Extracting EDF parameters from /home/tyler/Documents/learn-mne/sourcedata/IC_trn_P01_O_4.bdf...\n",
      "BDF file detected\n",
      "Setting channel info structure...\n",
      "Creating raw.info structure...\n"
     ]
    }
   ],
   "source": [
    "raws = []\n",
    "for file in all_recordings:\n",
    "    raw = mne.io.read_raw_bdf(f'sourcedata/{file}')\n",
    "    raw.info['line_freq'] = 50  # specify power line frequency as required by BIDS\n",
    "    raws.append(raw)"
   ]
  },
  {
   "cell_type": "code",
   "execution_count": 4,
   "id": "09a96f69-9167-400c-9292-d7feae2e1a55",
   "metadata": {},
   "outputs": [],
   "source": [
    "concat_raw = mne.io.concatenate_raws(raws)"
   ]
  },
  {
   "cell_type": "code",
   "execution_count": 5,
   "id": "d8ed17a7-6818-4b0d-aec2-99d717524572",
   "metadata": {
    "tags": []
   },
   "outputs": [],
   "source": [
    "subject_id = '001'\n",
    "task = 'face13'\n",
    "bids_root = './face13'"
   ]
  },
  {
   "cell_type": "code",
   "execution_count": null,
   "id": "99b7266e-1047-4fd2-a39d-1a78382201a6",
   "metadata": {
    "tags": []
   },
   "outputs": [
    {
     "name": "stdout",
     "output_type": "stream",
     "text": [
      "Writing 'face13/participants.tsv'...\n",
      "Writing 'face13/participants.json'...\n",
      "The provided raw data contains annotations, but you did not pass an \"event_id\" mapping from annotation descriptions to event codes. We will generate arbitrary event codes. To specify custom event codes, please pass \"event_id\".\n",
      "Used Annotations descriptions: ['BAD boundary', 'EDGE boundary']\n",
      "Writing 'face13/sub-001/eeg/sub-001_task-face13_events.tsv'...\n",
      "Writing 'face13/dataset_description.json'...\n",
      "Writing 'face13/sub-001/eeg/sub-001_task-face13_eeg.json'...\n",
      "Writing 'face13/sub-001/eeg/sub-001_task-face13_channels.tsv'...\n",
      "Copying data files to sub-001_task-face13_eeg.edf\n",
      "Reading 0 ... 2094079  =      0.000 ...  2044.999 secs...\n"
     ]
    },
    {
     "name": "stderr",
     "output_type": "stream",
     "text": [
      "/tmp/ipykernel_94218/210061452.py:2: RuntimeWarning: Converting data files to EDF format\n",
      "  mne_bids.write_raw_bids(concat_raw, bids_path, overwrite=True, allow_preload=True, format='EDF')\n"
     ]
    }
   ],
   "source": [
    "bids_path = mne_bids.BIDSPath(subject=subject_id, task=task, root=bids_root)\n",
    "mne_bids.write_raw_bids(concat_raw, bids_path, overwrite=True, allow_preload=True, format='EDF')"
   ]
  }
 ],
 "metadata": {
  "kernelspec": {
   "display_name": "Python 3 (ipykernel)",
   "language": "python",
   "name": "python3"
  },
  "language_info": {
   "codemirror_mode": {
    "name": "ipython",
    "version": 3
   },
   "file_extension": ".py",
   "mimetype": "text/x-python",
   "name": "python",
   "nbconvert_exporter": "python",
   "pygments_lexer": "ipython3",
   "version": "3.10.6"
  }
 },
 "nbformat": 4,
 "nbformat_minor": 5
}
